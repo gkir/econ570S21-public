{
 "cells": [
  {
   "cell_type": "markdown",
   "metadata": {
    "slideshow": {
     "slide_type": "slide"
    }
   },
   "source": [
    "## Discussion #1\n",
    "\n",
    "files needed = None\n",
    "\n",
    "**Answer the polling questions when you join the room!**\n",
    "\n",
    "This week we are working on\n",
    "\n",
    "1. Best practices for writing code\n",
    "2. String formatting\n",
    "\n",
    "Things I'd like feedback on:\n",
    "\n",
    "1. How the discussion format is working for you\n",
    "2. What I can do to make this class more successful for you\n",
    "\n",
    "\n",
    "The solutions to the practice problems are at the end of the notebook.\n"
   ]
  },
  {
   "cell_type": "markdown",
   "metadata": {},
   "source": [
    "Poll questions for students watching the recordings:\n",
    "\n",
    "1. Which of the following are valid variable names?\n",
    "\n",
    "(A) `_jim` (B) `4_ever` (C) `GrEgKiRwIn`\n",
    "\n",
    "* (a.) (A) only\n",
    "* (b.) (B) only\n",
    "* (c.) (C) only\n",
    "* (d.) (A) and (C)\n",
    "* (e.) all of the above\n",
    "\n",
    "2. Let `y = 3 + \"2\"`\n",
    "\n",
    "What is the value of y?\n",
    "\n",
    "* (a.) 5\n",
    "* (b.) 32\n",
    "* (c.) Error\n",
    "\n",
    "3. How would I get the value for \"Boomer\" in this dictionary?\n",
    "\n",
    "`dog_weights = {\"Graham\":18, \"Marnie\":40, \"Boomer\":33}`\n",
    "\n",
    "* (a.) `dog_weights[2]`\n",
    "* (b.) `dog_weights[\"Boomer\"]`\n",
    "* (c.) `dog_weights[Boomer]`\n",
    "* (d.) `dog_weights[3]`\n",
    "\n",
    "4. What did you find most difficult from the week's material?\n",
    "\n",
    "* (a.) Coding is overwhelming\n",
    "* (b.) Lectures are hard to follow\n",
    "* (c.) It was all easy\n",
    "* (d.) I don't know, I didn't watch the lectures\n",
    "* (e.) Other"
   ]
  },
  {
   "cell_type": "markdown",
   "metadata": {
    "slideshow": {
     "slide_type": "slide"
    }
   },
   "source": [
    "### A note on data structures\n",
    "\n",
    "It can be very easy to get flustered when working with complex coding objects, so it's important to understand the differences between the basic ones. So far, we've seen:\n",
    "* Lists\n",
    "* Dictionaries\n",
    "* Tuples\n",
    "* Strings (while this is technically a data type, we've seen they're also sort of like an array)\n",
    "\n",
    "Numeric types:\n",
    "* Integers\n",
    "* Floats\n",
    "* Booleans\n",
    "\n",
    "With the *array* structures, try to envision the object itself like a box. When we want to extract information from inside this box, we need to \"open it up\" using `[]` and then tell the computer where to look using an index. With some exceptions, we aren't usually able to apply functions over an entire array without pointing them to a specific object inside it."
   ]
  },
  {
   "cell_type": "markdown",
   "metadata": {
    "slideshow": {
     "slide_type": "slide"
    }
   },
   "source": [
    "### Writing good code\n",
    "\n",
    "Our goal is to learn enough python that we can do interesting/powerful/fun stuff with data. We are not here to become coding experts. \n",
    "\n",
    "That being said, we should strive to write 'good' code. What is good code? We will talk about some specifics below, but at the highest level, good code is easy for **humans** to read and understand. One of python's strengths is its inherent readability. "
   ]
  },
  {
   "cell_type": "markdown",
   "metadata": {
    "slideshow": {
     "slide_type": "slide"
    }
   },
   "source": [
    "The people who work on developing python itself publish a style guide known as [PEP-8](https://www.python.org/dev/peps/pep-0008). The goal of the style guide is to get everyone to write code in ways that make the code easy to read. \n",
    "\n",
    "The guidelines below are not exactly PEP-8. I do not want you stressing unnecessarily over style, but I do want you to keep in mind some key themes. \n",
    "\n",
    "\\[You will notice that I do not always follow these rules. This is usually accidental. I am human. \\]"
   ]
  },
  {
   "cell_type": "markdown",
   "metadata": {
    "slideshow": {
     "slide_type": "slide"
    }
   },
   "source": [
    "### Spacing\n",
    "1. Limit the length of a line of code to 79 characters. Having to scroll right to read a line of code is distracting. Some text editors can display a line down the screen to mark the 'edge.' \\[I break this rule a lot. Sorry.\\]\n",
    "\n",
    "2. Use blank lines to group related blocks of code. \n",
    "\n",
    "3. Put a space before and after assignment (=) and comparisons (==, !=, <, <).\n",
    "\n",
    "4. Put a space after a comma. "
   ]
  },
  {
   "cell_type": "code",
   "execution_count": null,
   "metadata": {
    "slideshow": {
     "slide_type": "fragment"
    }
   },
   "outputs": [],
   "source": [
    "# Examples of point 3.\n",
    "x = 1 + 5\n",
    "\n",
    "if x < 10:\n",
    "    print(x)\n",
    "    \n",
    "# Examples of point 4 (and point 3).\n",
    "print('The value of x is', x)\n",
    "\n",
    "x_list = [1, 3, 6, 9]"
   ]
  },
  {
   "cell_type": "markdown",
   "metadata": {
    "slideshow": {
     "slide_type": "slide"
    }
   },
   "source": [
    "### Comments\n",
    "1. Use comments when needed. Do not comment on the trivial. \n",
    "2. Comments should be complete sentences. Capitalize the first letter. Use a period at the end. \n",
    "3. Use a comment on the line before code rather than to the right of the code. \\[I break this rule a lot!\\]\n",
    "4. Use docstrings whenever you write a function. This rule will make more sense once we have introduced functions next week."
   ]
  },
  {
   "cell_type": "code",
   "execution_count": null,
   "metadata": {
    "slideshow": {
     "slide_type": "fragment"
    }
   },
   "outputs": [],
   "source": [
    "# Examples of point 1.\n",
    "\n",
    "# Add 1 to x.   <-- No! This is obvious.\n",
    "x = x +1\n",
    "\n",
    "###########################################\n",
    "### Some people use comment blocks like ###\n",
    "### this to section off their code.     ###\n",
    "### I use them to let readers know what ###\n",
    "### each piece of a very long program   ###\n",
    "### is for.                             ###\n",
    "###########################################\n",
    "\n"
   ]
  },
  {
   "cell_type": "markdown",
   "metadata": {
    "slideshow": {
     "slide_type": "slide"
    }
   },
   "source": [
    "### Naming conventions\n",
    "\n",
    "Different people, languages, and businesses use different naming conventions. The key here is to be consistent. \n",
    "\n",
    "1. I use all lower case letters for variables and functions and I use underscores (\\_) to make the names more readable.\n",
    "2. Use all capital letters to denote a constant value. \n",
    "3. Try to make function and variable names self-documenting. \n"
   ]
  },
  {
   "cell_type": "code",
   "execution_count": null,
   "metadata": {
    "slideshow": {
     "slide_type": "fragment"
    }
   },
   "outputs": [],
   "source": [
    "# Examples of naming conventions (and spacing conventions).\n",
    "\n",
    "# The gravitational constant in SI units. \n",
    "GRAV = 6.67430e-11\n",
    "\n",
    "# m1 and m2 are the masses of the bodies. r is the distance between the bodies.\n",
    "m1 = 100\n",
    "m2 = 100\n",
    "r = 20\n",
    "\n",
    "force = GRAV*m1*m2/r**2"
   ]
  },
  {
   "cell_type": "markdown",
   "metadata": {
    "slideshow": {
     "slide_type": "slide"
    }
   },
   "source": [
    "Bonus content: Python understands [scientific notation](https://en.wikipedia.org/wiki/Scientific_notation). The number $6.67 x 10^{-11}$ is written in python as 6.67e-11. "
   ]
  },
  {
   "cell_type": "markdown",
   "metadata": {
    "slideshow": {
     "slide_type": "slide"
    }
   },
   "source": [
    "### Practice: Writing good code\n",
    "Fix up the code below."
   ]
  },
  {
   "cell_type": "code",
   "execution_count": null,
   "metadata": {
    "slideshow": {
     "slide_type": "slide"
    }
   },
   "outputs": [],
   "source": [
    "#everyone's hours\n",
    "Hrsworked_Bob =37\n",
    "Hrsworked_Alice = 42\n",
    "hrswored_Clarice=45.6\n",
    "\n",
    "\n",
    "wage = 23.5000   # The wage.\n",
    "\n",
    "x = Hrsworked_Bob* wage +Hrsworked_Alice*wage+wage*hrswored_Clarice\n",
    "\n",
    "print(    'The total wage bill is',x)"
   ]
  },
  {
   "cell_type": "code",
   "execution_count": null,
   "metadata": {
    "slideshow": {
     "slide_type": "slide"
    }
   },
   "outputs": [],
   "source": [
    "# This string is from Maya Angelou's poem \"Still I rise\"\n",
    "line = \"\"\"You may write me down in history \\nWith your bitter, twisted lies, \\nYou may tread me in the very dirt \\nBut still, like dust, I'll rise.\"\"\"\n",
    "print(line,'\\n')\n",
    "\n",
    "linelength =len(line)\n",
    "\n",
    "# Print out the length of the line.\n",
    "print('The line\\'s length is',linelength)"
   ]
  },
  {
   "cell_type": "markdown",
   "metadata": {
    "slideshow": {
     "slide_type": "slide"
    }
   },
   "source": [
    "## String formatting \n",
    "\n",
    "We work with text a lot &ndash; it is how most of us communicate. We print words and numbers to the screen and to files; we add text to figures to label axes and call out interesting observations; we analyze text as data. \n",
    "\n",
    "This section takes you through the basics of string formatting using the newer python `str.format()` way of formating strings. String formatting can get very sophisticated, but we need only a few simple things. As usual, you can always Google for 'python string format' for more. \n",
    "\n",
    "\\[There are two other ways to format strings in python. One uses the \\% sign and follows from older c-style formatting. The newest is called 'f-strings'. The old-style formatting will show up sometimes, but using `str.format` is preferred. f-strings are good, too, but we'll stick with `str.format` for this course. \\]"
   ]
  },
  {
   "cell_type": "markdown",
   "metadata": {
    "slideshow": {
     "slide_type": "slide"
    }
   },
   "source": [
    "### The basics\n",
    "\n",
    "We insert variables into a string using the `str.format()` method. "
   ]
  },
  {
   "cell_type": "code",
   "execution_count": null,
   "metadata": {
    "slideshow": {
     "slide_type": "fragment"
    }
   },
   "outputs": [],
   "source": [
    "school_song = 'Varsity'\n",
    "\n",
    "print('The UW school song is {0}.'.format(school_song))"
   ]
  },
  {
   "cell_type": "markdown",
   "metadata": {
    "slideshow": {
     "slide_type": "slide"
    }
   },
   "source": [
    "The 0 in `{0}` is the positional argument. It says to insert the 0-th (first) thing in `format()` in place of `{0}`.\n",
    "\n",
    "Let's try this with two things to be printed."
   ]
  },
  {
   "cell_type": "code",
   "execution_count": null,
   "metadata": {
    "slideshow": {
     "slide_type": "fragment"
    }
   },
   "outputs": [],
   "source": [
    "# What kind of variable is this?\n",
    "year_written = 1898 \n",
    "\n",
    "print('The UW school song is {0}. It was written in {1}.'.format(school_song, year_written))\n",
    "\n",
    "# The values can be outputed in any order.\n",
    "print('The UW school song is {1}. It was written in {0}.'.format(school_song, year_written))\n",
    "\n",
    "# The values can be used more than once. \n",
    "print('The UW school song is {0}. It was written in {1}. The first lyric is {0}! {0}!'.format(school_song, year_written))"
   ]
  },
  {
   "cell_type": "markdown",
   "metadata": {
    "slideshow": {
     "slide_type": "slide"
    }
   },
   "source": [
    "Notice that `.format()` handled converting the int in `year_written` to a string. "
   ]
  },
  {
   "cell_type": "markdown",
   "metadata": {
    "slideshow": {
     "slide_type": "slide"
    }
   },
   "source": [
    "### Named placeholders\n",
    "Instead of numbers, the variables to print can be given names. Very nice."
   ]
  },
  {
   "cell_type": "code",
   "execution_count": null,
   "metadata": {
    "slideshow": {
     "slide_type": "slide"
    }
   },
   "outputs": [],
   "source": [
    "print('The UW school song is {song}. It was written in {year}.'.format(song='Varsity', year='1998'))"
   ]
  },
  {
   "cell_type": "markdown",
   "metadata": {
    "slideshow": {
     "slide_type": "slide"
    }
   },
   "source": [
    "### Formatting floats\n",
    "\n",
    "For us, string formatting shows up most often when we want to format the output of numbers. This includes dealing with significant digits, currencies, dates, and alignment. "
   ]
  },
  {
   "cell_type": "code",
   "execution_count": null,
   "metadata": {
    "slideshow": {
     "slide_type": "slide"
    }
   },
   "outputs": [],
   "source": [
    "foo = 1/3\n",
    "print(foo)\n",
    "\n",
    "# This is the default float format.\n",
    "print('foo = {0:f}'.format(foo))"
   ]
  },
  {
   "cell_type": "markdown",
   "metadata": {
    "slideshow": {
     "slide_type": "slide"
    }
   },
   "source": [
    "The syntax is `{position:format}`. We have already seen how the position argument works. The format argument is a code that tells `.format()` how to, well, format the value. \n",
    "\n",
    "In this case, we used the `f` to specify the float format. Doing so printed only six trailing digits. We can control the trailing digits and the overall width of the float, too. "
   ]
  },
  {
   "cell_type": "code",
   "execution_count": null,
   "metadata": {
    "slideshow": {
     "slide_type": "slide"
    }
   },
   "outputs": [],
   "source": [
    "print('foo = {0:5.3f}'.format(foo))"
   ]
  },
  {
   "cell_type": "markdown",
   "metadata": {
    "slideshow": {
     "slide_type": "slide"
    }
   },
   "source": [
    "The code `5.3f` means: output the number with a width of 5 'spaces' overall and 3 of the 5 spaces are to the right of the decimal point. \n",
    "\n",
    "*Update 02/10:* The [Python documentation](https://docs.python.org/3.8/library/string.html#grammar-token-width) specify that the number to the left should be considered a minimum width. Numbers exceeding the specified character width will still print, but numbers that are smaller will have additional blank characters added, as below."
   ]
  },
  {
   "cell_type": "code",
   "execution_count": null,
   "metadata": {
    "slideshow": {
     "slide_type": "slide"
    }
   },
   "outputs": [],
   "source": [
    "# Now the space reserved for the number is 8\n",
    "print('foo = {0:8.3f}'.format(foo))\n",
    "\n",
    "# The zero before the 8 prints out the leading zeros. \n",
    "print('foo = {0:08.3f}'.format(foo))\n"
   ]
  },
  {
   "cell_type": "markdown",
   "metadata": {
    "slideshow": {
     "slide_type": "slide"
    }
   },
   "source": [
    "If we add a comma to the left of the decimal point `5,.2f` we get commas to group digits. Since we specified two digits to the right of the decimal point, a trailing 0 is added. "
   ]
  },
  {
   "cell_type": "code",
   "execution_count": null,
   "metadata": {
    "slideshow": {
     "slide_type": "slide"
    }
   },
   "outputs": [],
   "source": [
    "print('An easy to read  big float is = {0:16,.2f}'.format(5692348925.2))"
   ]
  },
  {
   "cell_type": "markdown",
   "metadata": {
    "slideshow": {
     "slide_type": "slide"
    }
   },
   "source": [
    "### Practice: String formatting"
   ]
  },
  {
   "cell_type": "markdown",
   "metadata": {
    "slideshow": {
     "slide_type": "slide"
    }
   },
   "source": [
    "1. What happens if the number is larger than the width we specify? Try printing \n",
    "\n",
    "```python\n",
    "big_float = 123456789123456.7899\n",
    "```\n",
    "to the screen with the format `5.2f`. What happened?"
   ]
  },
  {
   "cell_type": "markdown",
   "metadata": {
    "slideshow": {
     "slide_type": "slide"
    }
   },
   "source": [
    "2. We often express numbers in percentage terms. Experiment with the `{position:4.2%}` format code (where the 4 and 2 are arbitrary numbers). Print each of the following to the screen:\n",
    "    1. `x = 0.03` as a percentage with 1 decimal place\n",
    "    2. `y = 0.65297` as a percentage with 2 decimal places\n",
    "    3. `z = 0.00056` as a percentage with 3 decimal places"
   ]
  },
  {
   "cell_type": "markdown",
   "metadata": {
    "slideshow": {
     "slide_type": "slide"
    }
   },
   "source": [
    "3. Suppose that we wanted our x, y, and z to line up on the decimal place. \n",
    "\n",
    "03.000% <br>\n",
    "65.30% <br>\n",
    "00.056%\n",
    "\n",
    "Try out the `{position:04.2%}` code to add leading zeros."
   ]
  },
  {
   "cell_type": "code",
   "execution_count": null,
   "metadata": {},
   "outputs": [],
   "source": []
  },
  {
   "cell_type": "code",
   "execution_count": null,
   "metadata": {},
   "outputs": [],
   "source": []
  },
  {
   "cell_type": "code",
   "execution_count": null,
   "metadata": {},
   "outputs": [],
   "source": []
  },
  {
   "cell_type": "code",
   "execution_count": null,
   "metadata": {},
   "outputs": [],
   "source": []
  },
  {
   "cell_type": "code",
   "execution_count": null,
   "metadata": {},
   "outputs": [],
   "source": []
  },
  {
   "cell_type": "code",
   "execution_count": null,
   "metadata": {},
   "outputs": [],
   "source": []
  },
  {
   "cell_type": "code",
   "execution_count": null,
   "metadata": {},
   "outputs": [],
   "source": []
  },
  {
   "cell_type": "markdown",
   "metadata": {},
   "source": [
    "## Solutions: Writing good code"
   ]
  },
  {
   "cell_type": "code",
   "execution_count": null,
   "metadata": {},
   "outputs": [],
   "source": [
    "# Everyone's hours worked. \n",
    "hrs_worked_Bob = 37\n",
    "hrs_worked_Alice = 42\n",
    "hrs_worked_Clarice = 45.6\n",
    "\n",
    "\n",
    "wage = 23.5\n",
    "\n",
    "x = hrs_worked_Bob*wage + hrs_worked_Alice*wage + hrs_worked_Clarice*wage\n",
    "\n",
    "print('The total wage bill is', x)"
   ]
  },
  {
   "cell_type": "markdown",
   "metadata": {},
   "source": [
    "Comments:\n",
    "\n",
    "1. I killed the wage comment. It's obvious. You might do the same for the hours worked comment, too. I decided to leave it in.\n",
    "2. I cleaned up the variable names and added space around the = operator.\n",
    "3. In the calculation, I used a space on each side of the equal sign and none around the multiplication. I moved the last 'wage' after the hours worked so that all three terms had the same form. I also might have written the line as \n",
    "```python \n",
    "x = (hrs_worked_Bob + hrs_worked_Alice + hrs_worked_Clarice)*wage\n",
    "```\n",
    "4. In the print statement, I removed the extra whitespace and added a space after the comma. "
   ]
  },
  {
   "cell_type": "code",
   "execution_count": null,
   "metadata": {},
   "outputs": [],
   "source": [
    "# This string is from Maya Angelou's poem \"Still I rise.\"\n",
    "line = \"\"\"You may write me down in history\n",
    "With your bitter, twisted lies,\n",
    "You may tread me in the very dirt\n",
    "But still, like dust, I'll rise.\"\"\"\n",
    "\n",
    "print(line,'\\n')\n",
    "\n",
    "linelength =len(line)\n",
    "\n",
    "\n",
    "print('The line\\'s length is', linelength)"
   ]
  },
  {
   "cell_type": "markdown",
   "metadata": {},
   "source": [
    "Comments:\n",
    "\n",
    "1. I added a period to the first comment.\n",
    "\n",
    "1. The string was too long. Since it is in triple quotes, I broke the string at each line, and then removed the `\\n`. Triple-quote string respect line breaks. \n",
    "\n",
    "2. I left `linelength` alone, but I might have made it `line_length`.\n",
    "\n",
    "3. I removed the trivial comment above the print statement and added a space after the comma."
   ]
  },
  {
   "cell_type": "markdown",
   "metadata": {},
   "source": [
    "## Solutions: String formatting"
   ]
  },
  {
   "cell_type": "code",
   "execution_count": null,
   "metadata": {},
   "outputs": [],
   "source": [
    "# Question 1\n",
    "big_float = 123456789123456.7899\n",
    "print('Big float is {0:5.2f}'.format(big_float))"
   ]
  },
  {
   "cell_type": "code",
   "execution_count": null,
   "metadata": {},
   "outputs": [],
   "source": [
    "# Question 2\n",
    "x = 0.03\n",
    "print('{0:5.1%}'.format(x))\n",
    "\n",
    "y = 0.65297\n",
    "print('{0:5.2%}'.format(y))\n",
    "\n",
    "z = 0.00056\n",
    "print('{0:5.3%}'.format(z))"
   ]
  },
  {
   "cell_type": "code",
   "execution_count": null,
   "metadata": {},
   "outputs": [],
   "source": [
    "# Question 3\n",
    "print('{0:07.3%}'.format(x))\n",
    "print('{0:5.2%}'.format(y))\n",
    "print('{0:07.3%}'.format(z))"
   ]
  }
 ],
 "metadata": {
  "celltoolbar": "Edit Metadata",
  "kernelspec": {
   "display_name": "Python 3",
   "language": "python",
   "name": "python3"
  },
  "language_info": {
   "codemirror_mode": {
    "name": "ipython",
    "version": 3
   },
   "file_extension": ".py",
   "mimetype": "text/x-python",
   "name": "python",
   "nbconvert_exporter": "python",
   "pygments_lexer": "ipython3",
   "version": "3.7.4"
  }
 },
 "nbformat": 4,
 "nbformat_minor": 2
}
