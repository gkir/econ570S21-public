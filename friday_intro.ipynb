{
 "cells": [
  {
   "cell_type": "markdown",
   "metadata": {},
   "source": [
    "## Discussion #0\n",
    "\n",
    "files needed = None\n",
    "\n",
    "For the first week, we're covering some boilerplate stuff and doing a little introduction."
   ]
  },
  {
   "cell_type": "markdown",
   "metadata": {},
   "source": [
    "### Introduction\n",
    "\n",
    "Discussions this semester:\n",
    "\n",
    "* Should be ~20 minutes in length, with the remaining time for open questions\n",
    "* Will be held synchronously and recorded via Zoom\n",
    "* Intended as a casual and open environment for working out the concepts from the week\n",
    "* We will also cover new concepts, so it's important that you be here\n",
    "* Occasionally, I'll cover the basics of some other important skills so that you are more prepared for other programming work in the future\n",
    "\n",
    "While the beginning of this course may at times seem dry, confusing, or overwhelming, think about it like your middle school English class. It's important that we know what verbs and nouns are when we want to form more complex thoughts.  However, just like I don't know what a \"predicate\" is, we don't need to know every tiny detail of coding to make it work for us.\n",
    "\n",
    "Some advice: I recommend that you try to find a small group to work with early on, as it will help you reinforce these concepts before we get to more complex ones."
   ]
  },
  {
   "cell_type": "markdown",
   "metadata": {},
   "source": [
    "### About Me\n",
    "\n",
    "* Originally from West Chester, PA (near Philly)\n",
    "* School:\n",
    "    * BA econ and math, William & Mary (Virginia)\n",
    "    * MS applied math, Northwestern\n",
    "    * 2nd-year Ph.D. student in economics at UW – Madison\n",
    "* RA/TA: AidData at W&M; Federal Trade Commission, Antitrust I Division; Kellogg School of Management\n",
    "    * TA experience:\n",
    "        * David Johnson (Micro 101) fall '19\n",
    "        * this course last spring\n",
    "        * Machine Learning (Econ725) fall '20\n",
    "\n",
    "* Research Interests: IO, marketing; Law + Economics; CS + Economics; ?\n",
    "* Not work: cooking, running, basketball\n"
   ]
  },
  {
   "cell_type": "markdown",
   "metadata": {},
   "source": [
    "### Finding good data\n",
    "\n",
    "What makes a \"good\" dataset? Why do we lean towards certain sources over others?\n",
    "\n",
    "Use [this link](http://badgerdata.org/pages/data-sets/) from the course page as a starting point this semester when trying to find data.\n",
    "\n",
    "Pick two datasets and compare them (even if they're not about the same topic). Some questions worth considering:\n",
    "* Is the data easily digestible?\n",
    "* Is the formatting easy to \"process\"? For this question, think about whether it comes in a uniform, neat layout--something a computer could easily put into an Excel spreadsheet."
   ]
  },
  {
   "cell_type": "markdown",
   "metadata": {},
   "source": [
    "### Suggest some new sources!\n",
    "\n",
    "Feel free to discuss some less-known sources of data that you may be familiar with. Some examples:\n",
    "\n",
    "* The [*Good Jobs First*](https://www.goodjobsfirst.org/subsidy-tracker) subsidy tracker, relevant to some recent publications in public and IO economics\n",
    "* [Sports-Reference](https://www.sports-reference.com/) (advanced features paid) for individual and team stats on numerous American sports\n",
    "* UCI's [Machine Learning Repository](https://archive.ics.uci.edu/ml/index.php) for machine learning datasets"
   ]
  },
  {
   "cell_type": "markdown",
   "metadata": {},
   "source": [
    "### if you're interested: running Python on your machine\n",
    "\n",
    "* For most students, the WinStat/SSCC setup will be perfectly acceptable this semester\n",
    "* *If* you are intent on running Python on your own laptop, make sure you use Python 3.8.5, preferably with Anaconda 3\n",
    "    * Python is a \"living\" language that still receives periodic updates, which may change the functionality quite a bit!\n",
    "    * For example, running `3/2` in Python 2.7 (how I learned it back in 20XX) would return `1` instead of `1.5`\n",
    "    * As of January 23 2021, WinStat is running Anaconda3 version 2020.11\n",
    "    * Reach out to me if you're interested in doing this, so I can try to help\n",
    "* It may be easier to manage your workflow by running Python natively instead of over the internet, *but* we/SSCC may not be able to help you as easily\n",
    "* You should still use Jupyter notebooks for your assignments if you're going to run Python this way."
   ]
  }
 ],
 "metadata": {
  "kernelspec": {
   "display_name": "Python 3",
   "language": "python",
   "name": "python3"
  },
  "language_info": {
   "codemirror_mode": {
    "name": "ipython",
    "version": 3
   },
   "file_extension": ".py",
   "mimetype": "text/x-python",
   "name": "python",
   "nbconvert_exporter": "python",
   "pygments_lexer": "ipython3",
   "version": "3.7.4"
  }
 },
 "nbformat": 4,
 "nbformat_minor": 2
}
